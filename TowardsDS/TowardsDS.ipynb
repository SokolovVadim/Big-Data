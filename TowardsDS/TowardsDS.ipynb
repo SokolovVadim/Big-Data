{
 "cells": [
  {
   "cell_type": "markdown",
   "id": "e8262066",
   "metadata": {},
   "source": [
    "Find out how many orders, how many products and how many sellers are in the data.\n",
    "How many products have been sold at least once? Which is the product contained in more orders?"
   ]
  },
  {
   "cell_type": "code",
   "execution_count": 7,
   "id": "2a7a1274",
   "metadata": {},
   "outputs": [
    {
     "name": "stderr",
     "output_type": "stream",
     "text": [
      "WARNING: An illegal reflective access operation has occurred\n",
      "WARNING: Illegal reflective access by org.apache.spark.unsafe.Platform (file:/usr/local/spark-3.2.0-bin-hadoop3.2/jars/spark-unsafe_2.12-3.2.0.jar) to constructor java.nio.DirectByteBuffer(long,int)\n",
      "WARNING: Please consider reporting this to the maintainers of org.apache.spark.unsafe.Platform\n",
      "WARNING: Use --illegal-access=warn to enable warnings of further illegal reflective access operations\n",
      "WARNING: All illegal access operations will be denied in a future release\n",
      "Using Spark's default log4j profile: org/apache/spark/log4j-defaults.properties\n",
      "Setting default log level to \"WARN\".\n",
      "To adjust logging level use sc.setLogLevel(newLevel). For SparkR, use setLogLevel(newLevel).\n",
      "22/01/19 13:16:41 WARN NativeCodeLoader: Unable to load native-hadoop library for your platform... using builtin-java classes where applicable\n",
      "22/01/19 13:16:46 WARN Utils: Service 'SparkUI' could not bind on port 4040. Attempting port 4041.\n"
     ]
    }
   ],
   "source": [
    "import pyspark\n",
    "from pyspark.context import SparkContext\n",
    "from pyspark.sql import SparkSession\n",
    "spark = SparkSession.builder \\\n",
    "    .master(\"local\") \\\n",
    "    .config(\"spark.sql.autoBroadcastJoinThreshold\", -1) \\\n",
    "    .config(\"spark.executor.memory\", \"500mb\") \\\n",
    "    .appName(\"Exercise1\") \\\n",
    "    .getOrCreate()"
   ]
  },
  {
   "cell_type": "code",
   "execution_count": 16,
   "id": "66fd0260",
   "metadata": {},
   "outputs": [],
   "source": [
    "sellers_table = spark.read.parquet(\"./sellers_parquet\")"
   ]
  },
  {
   "cell_type": "code",
   "execution_count": 17,
   "id": "2ea180a2",
   "metadata": {},
   "outputs": [],
   "source": [
    "products_table = spark.read.parquet(\"./products_parquet\")"
   ]
  },
  {
   "cell_type": "code",
   "execution_count": 18,
   "id": "09906bbe",
   "metadata": {},
   "outputs": [],
   "source": [
    "sales_table = spark.read.parquet(\"./sales_parquet\")"
   ]
  },
  {
   "cell_type": "code",
   "execution_count": 19,
   "id": "2a7991ba",
   "metadata": {},
   "outputs": [
    {
     "name": "stdout",
     "output_type": "stream",
     "text": [
      "num of sellers:  10\n"
     ]
    }
   ],
   "source": [
    "print('num of sellers: ', sellers_table.count())"
   ]
  },
  {
   "cell_type": "code",
   "execution_count": 20,
   "id": "a4751dad",
   "metadata": {},
   "outputs": [
    {
     "name": "stdout",
     "output_type": "stream",
     "text": [
      "num of products:  75000000\n"
     ]
    }
   ],
   "source": [
    "print('num of products: ', products_table.count())"
   ]
  },
  {
   "cell_type": "code",
   "execution_count": 21,
   "id": "718f921d",
   "metadata": {},
   "outputs": [
    {
     "name": "stderr",
     "output_type": "stream",
     "text": [
      "[Stage 24:======================================================> (81 + 1) / 83]\r"
     ]
    },
    {
     "name": "stdout",
     "output_type": "stream",
     "text": [
      "num of sales:  20000040\n"
     ]
    },
    {
     "name": "stderr",
     "output_type": "stream",
     "text": [
      "                                                                                \r"
     ]
    }
   ],
   "source": [
    "print('num of sales: ', sales_table.count())"
   ]
  },
  {
   "cell_type": "code",
   "execution_count": 23,
   "id": "bf382fdf",
   "metadata": {},
   "outputs": [
    {
     "name": "stdout",
     "output_type": "stream",
     "text": [
      "+--------+\n",
      "|order_id|\n",
      "+--------+\n",
      "|       1|\n",
      "|       2|\n",
      "|       3|\n",
      "|       4|\n",
      "|       5|\n",
      "+--------+\n",
      "only showing top 5 rows\n",
      "\n"
     ]
    }
   ],
   "source": [
    "sales_table.select(\"order_id\").show(5)"
   ]
  },
  {
   "cell_type": "code",
   "execution_count": 32,
   "id": "62ce09d8",
   "metadata": {},
   "outputs": [
    {
     "name": "stderr",
     "output_type": "stream",
     "text": [
      "                                                                                \r"
     ]
    },
    {
     "data": {
      "text/plain": [
       "9001150"
      ]
     },
     "execution_count": 32,
     "metadata": {},
     "output_type": "execute_result"
    }
   ],
   "source": [
    "sales_table.filter(sales_table[\"num_pieces_sold\"] > 55).count()"
   ]
  },
  {
   "cell_type": "code",
   "execution_count": 75,
   "id": "ef0abe70",
   "metadata": {},
   "outputs": [],
   "source": [
    "from pyspark.sql.functions import countDistinct\n",
    "from pyspark.sql.functions import col\n",
    "from pyspark.sql.functions import count\n",
    "from pyspark.sql.functions import avg"
   ]
  },
  {
   "cell_type": "code",
   "execution_count": 42,
   "id": "6c99079a",
   "metadata": {},
   "outputs": [
    {
     "name": "stdout",
     "output_type": "stream",
     "text": [
      "num of products sold at least once\n"
     ]
    }
   ],
   "source": [
    "print('num of products sold at least once')"
   ]
  },
  {
   "cell_type": "code",
   "execution_count": 43,
   "id": "d0515701",
   "metadata": {},
   "outputs": [
    {
     "name": "stderr",
     "output_type": "stream",
     "text": [
      "[Stage 64:>                                                         (0 + 1) / 1]\r"
     ]
    },
    {
     "name": "stdout",
     "output_type": "stream",
     "text": [
      "+-----------------+\n",
      "|count(product_id)|\n",
      "+-----------------+\n",
      "|           993429|\n",
      "+-----------------+\n",
      "\n"
     ]
    },
    {
     "name": "stderr",
     "output_type": "stream",
     "text": [
      "                                                                                \r"
     ]
    }
   ],
   "source": [
    "sales_table.agg(countDistinct(col(\"product_id\"))).show()"
   ]
  },
  {
   "cell_type": "code",
   "execution_count": 54,
   "id": "ecff9074",
   "metadata": {},
   "outputs": [
    {
     "name": "stderr",
     "output_type": "stream",
     "text": [
      "[Stage 79:>                                                         (0 + 1) / 1]\r"
     ]
    },
    {
     "name": "stdout",
     "output_type": "stream",
     "text": [
      "+----------+--------+\n",
      "|product_id|     cnt|\n",
      "+----------+--------+\n",
      "|         0|19000000|\n",
      "|  35669461|       3|\n",
      "|  28592106|       3|\n",
      "|  52606213|       3|\n",
      "|  36269838|       3|\n",
      "|  31136332|       3|\n",
      "|   2316238|       3|\n",
      "|  67723231|       3|\n",
      "|  72017876|       3|\n",
      "|  69790381|       3|\n",
      "+----------+--------+\n",
      "only showing top 10 rows\n",
      "\n"
     ]
    },
    {
     "name": "stderr",
     "output_type": "stream",
     "text": [
      "                                                                                \r"
     ]
    }
   ],
   "source": [
    "sales_table.groupBy(col(\"product_id\")).agg(count(\"*\").alias(\"cnt\")).orderBy(col(\"cnt\").desc()).show(10)"
   ]
  },
  {
   "cell_type": "code",
   "execution_count": 66,
   "id": "b848667b",
   "metadata": {},
   "outputs": [
    {
     "name": "stderr",
     "output_type": "stream",
     "text": [
      "                                                                                \r"
     ]
    }
   ],
   "source": [
    "#sales_table.agg(col(sales_table.distinct())).show()\n",
    "distinct_products = sales_table.select('product_id').distinct().collect()\n",
    "#df.select('column1').distinct().collect()"
   ]
  },
  {
   "cell_type": "code",
   "execution_count": 69,
   "id": "bbec86cf",
   "metadata": {},
   "outputs": [
    {
     "data": {
      "text/plain": [
       "993429"
      ]
     },
     "execution_count": 69,
     "metadata": {},
     "output_type": "execute_result"
    }
   ],
   "source": [
    "len(distinct_products)"
   ]
  },
  {
   "cell_type": "markdown",
   "id": "e6647d49",
   "metadata": {},
   "source": [
    "How many distinct products have been sold in each day?"
   ]
  },
  {
   "cell_type": "code",
   "execution_count": 73,
   "id": "fb44b6a4",
   "metadata": {},
   "outputs": [
    {
     "name": "stderr",
     "output_type": "stream",
     "text": [
      "[Stage 94:>                                                         (0 + 1) / 1]\r"
     ]
    },
    {
     "name": "stdout",
     "output_type": "stream",
     "text": [
      "+----------+----------------------+\n",
      "|      date|distinct_products_sold|\n",
      "+----------+----------------------+\n",
      "|2020-07-06|                100765|\n",
      "|2020-07-09|                100501|\n",
      "|2020-07-01|                100337|\n",
      "|2020-07-03|                100017|\n",
      "|2020-07-02|                 99807|\n",
      "|2020-07-05|                 99796|\n",
      "|2020-07-04|                 99791|\n",
      "|2020-07-07|                 99756|\n",
      "|2020-07-08|                 99662|\n",
      "|2020-07-10|                 98973|\n",
      "+----------+----------------------+\n",
      "\n"
     ]
    },
    {
     "name": "stderr",
     "output_type": "stream",
     "text": [
      "                                                                                \r"
     ]
    }
   ],
   "source": [
    "sales_table.groupBy(col(\"date\")).agg(countDistinct(col(\"product_id\")).alias(\"distinct_products_sold\")).orderBy(\n",
    "    col(\"distinct_products_sold\").desc()).show()"
   ]
  },
  {
   "cell_type": "markdown",
   "id": "79fe1a7f",
   "metadata": {},
   "source": [
    "What is the average revenue of the orders?"
   ]
  },
  {
   "cell_type": "code",
   "execution_count": 78,
   "id": "b8210da4",
   "metadata": {},
   "outputs": [
    {
     "name": "stdout",
     "output_type": "stream",
     "text": [
      "average num of pieces sold\n"
     ]
    }
   ],
   "source": [
    "print('average num of pieces sold')"
   ]
  },
  {
   "cell_type": "code",
   "execution_count": 77,
   "id": "695ce08f",
   "metadata": {},
   "outputs": [
    {
     "name": "stderr",
     "output_type": "stream",
     "text": [
      "[Stage 98:=====================================================>  (80 + 1) / 83]\r"
     ]
    },
    {
     "name": "stdout",
     "output_type": "stream",
     "text": [
      "+--------------------+\n",
      "|avg(num_pieces_sold)|\n",
      "+--------------------+\n",
      "|  50.498064453871095|\n",
      "+--------------------+\n",
      "\n"
     ]
    },
    {
     "name": "stderr",
     "output_type": "stream",
     "text": [
      "                                                                                \r"
     ]
    }
   ],
   "source": [
    "sales_table.agg(avg(col(\"num_pieces_sold\"))).show()"
   ]
  },
  {
   "cell_type": "code",
   "execution_count": 80,
   "id": "1693d161",
   "metadata": {},
   "outputs": [
    {
     "name": "stderr",
     "output_type": "stream",
     "text": [
      "[Stage 105:===================================================>   (14 + 1) / 15]\r"
     ]
    },
    {
     "name": "stdout",
     "output_type": "stream",
     "text": [
      "+------------------------------+\n",
      "|avg((price * num_pieces_sold))|\n",
      "+------------------------------+\n",
      "|            1246.1338560822878|\n",
      "+------------------------------+\n",
      "\n"
     ]
    },
    {
     "name": "stderr",
     "output_type": "stream",
     "text": [
      "                                                                                \r"
     ]
    }
   ],
   "source": [
    "# create a new column revenue_of_one_product = price * num_pieces_sold\n",
    "sales_table.join(products_table, sales_table[\"product_id\"] == products_table[\"product_id\"], \"inner\")\\\n",
    "    .agg(avg(products_table[\"price\"] * sales_table[\"num_pieces_sold\"])).show()"
   ]
  },
  {
   "cell_type": "markdown",
   "id": "88bc3742",
   "metadata": {},
   "source": [
    "For each seller, what is the average % contribution of an order to the seller's daily quota?\n",
    "### Example\n",
    "If Seller_0 with `quota=250` has 3 orders:\n",
    "Order 1: 10 products sold\n",
    "Order 2: 8 products sold\n",
    "Order 3: 7 products sold\n",
    "The average % contribution of orders to the seller's quota would be:\n",
    "Order 1: 10/105 = 0.04\n",
    "Order 2: 8/105 = 0.032\n",
    "Order 3: 7/105 = 0.028\n",
    "Average % Contribution = (0.04+0.032+0.028)/3 = 0.03333"
   ]
  },
  {
   "cell_type": "code",
   "execution_count": null,
   "id": "22967bcf",
   "metadata": {},
   "outputs": [],
   "source": [
    "# for each seller in sellers table find quota.\n",
    "# For each seller find orders in sales_table.\n",
    "# contribution = sum(num_pieces_sold) / (num_orders * daily_target)"
   ]
  },
  {
   "cell_type": "code",
   "execution_count": 86,
   "id": "f5847bcb",
   "metadata": {},
   "outputs": [
    {
     "data": {
      "text/plain": [
       "10"
      ]
     },
     "execution_count": 86,
     "metadata": {},
     "output_type": "execute_result"
    }
   ],
   "source": [
    "sellers_table.filter(sellers_table[\"daily_target\"] > 0).count()"
   ]
  },
  {
   "cell_type": "code",
   "execution_count": 90,
   "id": "0612c20c",
   "metadata": {},
   "outputs": [
    {
     "name": "stderr",
     "output_type": "stream",
     "text": [
      "22/01/19 16:13:13 WARN RowBasedKeyValueBatch: Calling spill() on RowBasedKeyValueBatch. Will not spill but return 0.\n",
      "22/01/19 16:13:13 WARN RowBasedKeyValueBatch: Calling spill() on RowBasedKeyValueBatch. Will not spill but return 0.\n",
      "22/01/19 16:13:15 WARN RowBasedKeyValueBatch: Calling spill() on RowBasedKeyValueBatch. Will not spill but return 0.\n",
      "22/01/19 16:13:15 WARN RowBasedKeyValueBatch: Calling spill() on RowBasedKeyValueBatch. Will not spill but return 0.\n",
      "22/01/19 16:13:18 WARN RowBasedKeyValueBatch: Calling spill() on RowBasedKeyValueBatch. Will not spill but return 0.\n",
      "22/01/19 16:13:18 WARN RowBasedKeyValueBatch: Calling spill() on RowBasedKeyValueBatch. Will not spill but return 0.\n",
      "[Stage 120:============================>                            (1 + 1) / 2]\r"
     ]
    },
    {
     "name": "stdout",
     "output_type": "stream",
     "text": [
      "+---------+--------------------+\n",
      "|seller_id|          avg(ratio)|\n",
      "+---------+--------------------+\n",
      "|        3|1.628885370565975...|\n",
      "|        7|2.595228787788204...|\n",
      "|        8|9.213030375409368E-5|\n",
      "|        0|2.019885898974880...|\n",
      "|        1|1.964233366461213...|\n",
      "|        2|6.690408001064177E-5|\n",
      "|        4|3.296428039825307E-5|\n",
      "|        5|4.211073965904662...|\n",
      "|        6|4.782147194370051E-5|\n",
      "|        9|3.837913136180193...|\n",
      "+---------+--------------------+\n",
      "\n",
      "None\n"
     ]
    },
    {
     "name": "stderr",
     "output_type": "stream",
     "text": [
      "                                                                                \r"
     ]
    }
   ],
   "source": [
    "print(sales_table.join(sellers_table, sales_table[\"seller_id\"] == sellers_table[\"seller_id\"], \"inner\").withColumn(\n",
    "    \"ratio\", sales_table[\"num_pieces_sold\"]/sellers_table[\"daily_target\"]\n",
    ").groupBy(sales_table[\"seller_id\"]).agg(avg(\"ratio\")).show())"
   ]
  }
 ],
 "metadata": {
  "kernelspec": {
   "display_name": "Python 3 (ipykernel)",
   "language": "python",
   "name": "python3"
  },
  "language_info": {
   "codemirror_mode": {
    "name": "ipython",
    "version": 3
   },
   "file_extension": ".py",
   "mimetype": "text/x-python",
   "name": "python",
   "nbconvert_exporter": "python",
   "pygments_lexer": "ipython3",
   "version": "3.9.7"
  }
 },
 "nbformat": 4,
 "nbformat_minor": 5
}
