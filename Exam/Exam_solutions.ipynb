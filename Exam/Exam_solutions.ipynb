{
 "cells": [
  {
   "cell_type": "code",
   "execution_count": 177,
   "id": "e4f54504",
   "metadata": {},
   "outputs": [],
   "source": [
    "import pyspark"
   ]
  },
  {
   "cell_type": "code",
   "execution_count": 178,
   "id": "9efa7c30",
   "metadata": {},
   "outputs": [],
   "source": [
    "from pyspark.sql import SparkSession"
   ]
  },
  {
   "cell_type": "code",
   "execution_count": 2,
   "id": "7eaec6de",
   "metadata": {
    "scrolled": true
   },
   "outputs": [
    {
     "name": "stderr",
     "output_type": "stream",
     "text": [
      "WARNING: An illegal reflective access operation has occurred\n",
      "WARNING: Illegal reflective access by org.apache.spark.unsafe.Platform (file:/usr/local/spark-3.2.0-bin-hadoop3.2/jars/spark-unsafe_2.12-3.2.0.jar) to constructor java.nio.DirectByteBuffer(long,int)\n",
      "WARNING: Please consider reporting this to the maintainers of org.apache.spark.unsafe.Platform\n",
      "WARNING: Use --illegal-access=warn to enable warnings of further illegal reflective access operations\n",
      "WARNING: All illegal access operations will be denied in a future release\n",
      "Using Spark's default log4j profile: org/apache/spark/log4j-defaults.properties\n",
      "Setting default log level to \"WARN\".\n",
      "To adjust logging level use sc.setLogLevel(newLevel). For SparkR, use setLogLevel(newLevel).\n",
      "22/02/04 19:56:22 WARN NativeCodeLoader: Unable to load native-hadoop library for your platform... using builtin-java classes where applicable\n"
     ]
    }
   ],
   "source": [
    "sc = pyspark.SparkContext(\"local[*]\")"
   ]
  },
  {
   "cell_type": "code",
   "execution_count": 184,
   "id": "6a358587",
   "metadata": {},
   "outputs": [],
   "source": [
    "spark = SparkSession.builder\\\n",
    "      .master(\"local[1]\")\\\n",
    "      .appName(\"exam_solutions\")\\\n",
    "      .getOrCreate() "
   ]
  },
  {
   "cell_type": "code",
   "execution_count": 180,
   "id": "e2f4465b",
   "metadata": {},
   "outputs": [],
   "source": [
    "rdd = spark.sparkContext.textFile(\"data.txt\")"
   ]
  },
  {
   "cell_type": "code",
   "execution_count": 183,
   "id": "d993ff0d",
   "metadata": {},
   "outputs": [
    {
     "data": {
      "text/plain": [
       "data.txt MapPartitionsRDD[414] at textFile at NativeMethodAccessorImpl.java:0"
      ]
     },
     "execution_count": 183,
     "metadata": {},
     "output_type": "execute_result"
    }
   ],
   "source": [
    "rdd.first()"
   ]
  },
  {
   "cell_type": "code",
   "execution_count": 185,
   "id": "428a3fc8",
   "metadata": {},
   "outputs": [],
   "source": [
    "# TransactionID:Int | Timestamp:Datetime | UserID:String | CompanySymbol:String | Volume:Int| Action:String\n",
    "transactions = [(0, '1991-04-01','S0','Smith',20,'Buy'),\n",
    "  (1, '2000-05-19','F1','Ford',100,'Sell'),\n",
    "  (2, '2020-09-05', 'HAL9000', 'Hal', 98, 'Sell'),\n",
    "  (3, '1978-09-05','W2','Williams',12,'Buy'),\n",
    "  (4, '1967-12-01','J3','Jones',27,'Buy'),\n",
    "  (5, '2020-09-05','B4','Brown',160,'Sell'),\n",
    "  (6, '2020-03-05', 'HAL9000', 'Hal', 134, 'Buy'),\n",
    "  (7, '2020-09-05', 'J7', 'John', 27, 'Sell'),\n",
    "  (8, '2020-09-05', 'J8', 'John', 16, 'Sell'),\n",
    "  (9, '2020-09-05','B5','Brown',16,'Sell'),\n",
    "  (10, '2020-09-05','B6','Brown',198,'Sell'),\n",
    "  (11, '2020-09-05', 'HAL9090', 'Hal', 1234, 'Buy'),\n",
    "]\n",
    "\n",
    "transactions_columns = [\"TransactionID\", \"Timestamp\",\"UserID\",\"CompanySymbol\",\"Volume\",\"Action\"]\n",
    "df_trans = spark.createDataFrame(data=transactions, schema = transactions_columns)"
   ]
  },
  {
   "cell_type": "code",
   "execution_count": 186,
   "id": "98f7dae0",
   "metadata": {},
   "outputs": [
    {
     "name": "stdout",
     "output_type": "stream",
     "text": [
      "+-------------+----------+-------+-------------+------+------+\n",
      "|TransactionID| Timestamp| UserID|CompanySymbol|Volume|Action|\n",
      "+-------------+----------+-------+-------------+------+------+\n",
      "|            0|1991-04-01|     S0|        Smith|    20|   Buy|\n",
      "|            1|2000-05-19|     F1|         Ford|   100|  Sell|\n",
      "|            2|2020-09-05|HAL9000|          Hal|    98|  Sell|\n",
      "|            3|1978-09-05|     W2|     Williams|    12|   Buy|\n",
      "|            4|1967-12-01|     J3|        Jones|    27|   Buy|\n",
      "|            5|2020-09-05|     B4|        Brown|   160|  Sell|\n",
      "|            6|2020-03-05|HAL9000|          Hal|   134|   Buy|\n",
      "|            7|2020-09-05|     J7|         John|    27|  Sell|\n",
      "|            8|2020-09-05|     J8|         John|    16|  Sell|\n",
      "|            9|2020-09-05|     B5|        Brown|    16|  Sell|\n",
      "|           10|2020-09-05|     B6|        Brown|   198|  Sell|\n",
      "|           11|2020-09-05|HAL9090|          Hal|  1234|   Buy|\n",
      "+-------------+----------+-------+-------------+------+------+\n",
      "\n"
     ]
    }
   ],
   "source": [
    "df_trans.show()"
   ]
  },
  {
   "cell_type": "code",
   "execution_count": 187,
   "id": "39edad31",
   "metadata": {},
   "outputs": [],
   "source": [
    "# CompanySymbol:String | Timestamp:Datetime | ValuePerUnit_EURO: Float\n",
    "prices = [('Smith', '2022-02-01', 12.12),\n",
    "         ('Ford', '2022-02-02', 22.22),\n",
    "         ('Williams', '2022-02-01', 43.43),\n",
    "         ('Jones', '2022-02-04', 35.35),\n",
    "         ('Brown', '2022-02-03', 56.56)\n",
    "]\n",
    "\n",
    "prices_columns = [\"CompanySymbol\", \"Timestamp\", \"ValuePerUnit_EURO\"]\n",
    "df_prices = spark.createDataFrame(data = prices, schema = prices_columns)"
   ]
  },
  {
   "cell_type": "code",
   "execution_count": 188,
   "id": "4752b9ed",
   "metadata": {},
   "outputs": [
    {
     "name": "stdout",
     "output_type": "stream",
     "text": [
      "+-------------+----------+-----------------+\n",
      "|CompanySymbol| Timestamp|ValuePerUnit_EURO|\n",
      "+-------------+----------+-----------------+\n",
      "|        Smith|2022-02-01|            12.12|\n",
      "|         Ford|2022-02-02|            22.22|\n",
      "|     Williams|2022-02-01|            43.43|\n",
      "|        Jones|2022-02-04|            35.35|\n",
      "|        Brown|2022-02-03|            56.56|\n",
      "+-------------+----------+-----------------+\n",
      "\n"
     ]
    }
   ],
   "source": [
    "df_prices.show()"
   ]
  },
  {
   "cell_type": "code",
   "execution_count": null,
   "id": "6a865970",
   "metadata": {},
   "outputs": [],
   "source": [
    "# 1. Total Number of transactions"
   ]
  },
  {
   "cell_type": "code",
   "execution_count": 189,
   "id": "820794e8",
   "metadata": {},
   "outputs": [
    {
     "data": {
      "text/plain": [
       "12"
      ]
     },
     "execution_count": 189,
     "metadata": {},
     "output_type": "execute_result"
    }
   ],
   "source": [
    "df_trans.count()"
   ]
  },
  {
   "cell_type": "code",
   "execution_count": null,
   "id": "f9e191cc",
   "metadata": {},
   "outputs": [],
   "source": [
    "# 2. Number of Transactions done by the user “HAL9000”"
   ]
  },
  {
   "cell_type": "code",
   "execution_count": 190,
   "id": "7808a312",
   "metadata": {},
   "outputs": [],
   "source": [
    "import pyspark.sql.functions as f"
   ]
  },
  {
   "cell_type": "code",
   "execution_count": 212,
   "id": "3b81fc3b",
   "metadata": {},
   "outputs": [
    {
     "data": {
      "text/plain": [
       "2"
      ]
     },
     "execution_count": 212,
     "metadata": {},
     "output_type": "execute_result"
    }
   ],
   "source": [
    "df_trans.filter(f.col('UserID') == 'HAL9000').count()"
   ]
  },
  {
   "cell_type": "code",
   "execution_count": null,
   "id": "64c4a8b9",
   "metadata": {},
   "outputs": [],
   "source": [
    "# 3. Number of transactions per day"
   ]
  },
  {
   "cell_type": "code",
   "execution_count": 213,
   "id": "5853783b",
   "metadata": {},
   "outputs": [],
   "source": [
    "rdd_trans = df_trans.rdd"
   ]
  },
  {
   "cell_type": "code",
   "execution_count": 214,
   "id": "7626834b",
   "metadata": {},
   "outputs": [
    {
     "data": {
      "text/plain": [
       "[('1991-04-01', 1),\n",
       " ('2000-05-19', 1),\n",
       " ('2020-09-05', 7),\n",
       " ('1978-09-05', 1),\n",
       " ('1967-12-01', 1),\n",
       " ('2020-03-05', 1)]"
      ]
     },
     "execution_count": 214,
     "metadata": {},
     "output_type": "execute_result"
    }
   ],
   "source": [
    "rdd_trans.map(lambda x: (x.Timestamp, 1)).reduceByKey(lambda x, y: x + y).collect()"
   ]
  },
  {
   "cell_type": "code",
   "execution_count": 46,
   "id": "5bbfdbf7",
   "metadata": {},
   "outputs": [],
   "source": [
    "# 4. Average Daily Transactions per company\n",
    "# (i..e, On average, how much transaction each company does every day)\n",
    "# during the week 42 of 2021"
   ]
  },
  {
   "cell_type": "code",
   "execution_count": 48,
   "id": "1461234a",
   "metadata": {},
   "outputs": [],
   "source": [
    "# 1. filter week 42\n",
    "# 2. map to pairs (company, coeff_per_day)\n",
    "# 3. count and divide by num_days_per_working_week <=> 5"
   ]
  },
  {
   "cell_type": "code",
   "execution_count": 248,
   "id": "012b1bec",
   "metadata": {},
   "outputs": [],
   "source": [
    "#total_trans_num_week42 = df_trans.filter(f.col('Timestamp') == '2020-09-05')\\\n",
    "df_week42 = df_trans.filter(f.col('Timestamp') == '2020-09-05')\n",
    "rdd_week42 = df_week42.rdd\n",
    "total_trans_num_week42 = rdd_week42.map(lambda x: (x.CompanySymbol, 1))\\\n",
    "  .reduceByKey(lambda x, y: (x + y) / 5)"
   ]
  },
  {
   "cell_type": "code",
   "execution_count": 249,
   "id": "22881fbf",
   "metadata": {},
   "outputs": [
    {
     "data": {
      "text/plain": [
       "[('Hal', 0.4), ('Brown', 0.27999999999999997), ('John', 0.4)]"
      ]
     },
     "execution_count": 249,
     "metadata": {},
     "output_type": "execute_result"
    }
   ],
   "source": [
    "total_trans_num_week42.collect()"
   ]
  },
  {
   "cell_type": "code",
   "execution_count": 250,
   "id": "c49f6ce1",
   "metadata": {},
   "outputs": [
    {
     "data": {
      "text/plain": [
       "3"
      ]
     },
     "execution_count": 250,
     "metadata": {},
     "output_type": "execute_result"
    }
   ],
   "source": [
    "total_trans_num_week42.count()"
   ]
  },
  {
   "cell_type": "code",
   "execution_count": 119,
   "id": "d3515306",
   "metadata": {},
   "outputs": [],
   "source": [
    "# 5. Total Amount of Euro spent by each user"
   ]
  },
  {
   "cell_type": "code",
   "execution_count": null,
   "id": "15684c80",
   "metadata": {},
   "outputs": [],
   "source": [
    "# 1. join two tables\n",
    "# 2. calculate total sum with price and value\n",
    "# 2. filter current prices\n",
    "# 3. calculate sum for each user taking into account Action"
   ]
  },
  {
   "cell_type": "code",
   "execution_count": 274,
   "id": "80fecd91",
   "metadata": {},
   "outputs": [],
   "source": [
    "rdd_prices = df_prices.rdd"
   ]
  },
  {
   "cell_type": "code",
   "execution_count": 280,
   "id": "314c2db3",
   "metadata": {},
   "outputs": [],
   "source": [
    "transactions_with_prices_rdd = rdd_trans.map(lambda x: (x.CompanySymbol, x))\\\n",
    "    .join(rdd_prices.map(lambda x: (x.CompanySymbol, x)))"
   ]
  },
  {
   "cell_type": "code",
   "execution_count": 281,
   "id": "a3097a8b",
   "metadata": {},
   "outputs": [
    {
     "data": {
      "text/plain": [
       "('Smith',\n",
       " (Row(TransactionID=0, Timestamp='1991-04-01', UserID='S0', CompanySymbol='Smith', Volume=20, Action='Buy'),\n",
       "  Row(CompanySymbol='Smith', Timestamp='2022-02-01', ValuePerUnit_EURO=12.12)))"
      ]
     },
     "execution_count": 281,
     "metadata": {},
     "output_type": "execute_result"
    }
   ],
   "source": [
    "transactions_with_prices_rdd.first()"
   ]
  },
  {
   "cell_type": "code",
   "execution_count": 282,
   "id": "4b98bdd5",
   "metadata": {},
   "outputs": [],
   "source": [
    "def createNewTable(x):\n",
    "    print('x[0]:', x[0])\n",
    "    print('----------')\n",
    "    print('x[1]:', x[1])\n",
    "    print('----------')\n",
    "    print('x[1][0]: ', x[1][0])\n",
    "    print('x[1][1]: ', x[1][1])\n",
    "    return {\"CompanySymbol\":x[0], \"UserID\":x[1][0].UserID}"
   ]
  },
  {
   "cell_type": "code",
   "execution_count": 283,
   "id": "60b26b64",
   "metadata": {},
   "outputs": [
    {
     "data": {
      "text/plain": [
       "'\"Action\":x[1][0].Action,\"Volumes\":x[1][0].Volume,\"pricePerUnit\":x[1][1].ValuePerUnit_EURO,\"moneyValue\":x[1][0].Volume * x[1][1].ValuePerUnit_EURO,\"ts\":x[1][0].Timestamp,\"deltaTs\":x[1][0].Timestamp - x[1][1].Timestamp})'"
      ]
     },
     "execution_count": 283,
     "metadata": {},
     "output_type": "execute_result"
    }
   ],
   "source": [
    "# PickUpErrorRDD.map(lambda row: (row.get(\"McID\"),row.get(\"TimeStamp\"))).reduceByKey(lambda valLeft,valRight: max(valLeft, valRight)).map(lambda x: {\"lastTS\":x[1],\"McID\":x[0]}).collect()\n",
    "# [\"TransactionID\", \"Timestamp\",\"UserID\",\"CompanySymbol\",\"Volume\",\"Action\"]\n",
    "# [\"CompanySymbol\", \"Timestamp\", \"ValuePerUnit_EURO\"]\n",
    "transactions_with_prices_rdd = transactions_with_prices_rdd.map(lambda x: createNewTable(x))\n",
    "#\"ID\":x[1][0].TransactionID,\\\n",
    "'''\"Action\":x[1][0].Action,\\\n",
    "\"Volumes\":x[1][0].Volume,\\\n",
    "\"pricePerUnit\":x[1][1].ValuePerUnit_EURO,\\\n",
    "\"moneyValue\":x[1][0].Volume * x[1][1].ValuePerUnit_EURO,\\\n",
    "\"ts\":x[1][0].Timestamp,\\\n",
    "\"deltaTs\":x[1][0].Timestamp - x[1][1].Timestamp})'''"
   ]
  },
  {
   "cell_type": "code",
   "execution_count": 284,
   "id": "697e2afb",
   "metadata": {},
   "outputs": [
    {
     "name": "stderr",
     "output_type": "stream",
     "text": [
      "x[0]: Smith\n",
      "----------\n",
      "x[1]: (Row(TransactionID=0, Timestamp='1991-04-01', UserID='S0', CompanySymbol='Smith', Volume=20, Action='Buy'), Row(CompanySymbol='Smith', Timestamp='2022-02-01', ValuePerUnit_EURO=12.12))\n",
      "----------\n",
      "x[1][0]:  Row(TransactionID=0, Timestamp='1991-04-01', UserID='S0', CompanySymbol='Smith', Volume=20, Action='Buy')\n",
      "x[1][1]:  Row(CompanySymbol='Smith', Timestamp='2022-02-01', ValuePerUnit_EURO=12.12)\n",
      "x[0]: Ford\n",
      "----------\n",
      "x[1]: (Row(TransactionID=1, Timestamp='2000-05-19', UserID='F1', CompanySymbol='Ford', Volume=100, Action='Sell'), Row(CompanySymbol='Ford', Timestamp='2022-02-02', ValuePerUnit_EURO=22.22))\n",
      "----------\n",
      "x[1][0]:  Row(TransactionID=1, Timestamp='2000-05-19', UserID='F1', CompanySymbol='Ford', Volume=100, Action='Sell')\n",
      "x[1][1]:  Row(CompanySymbol='Ford', Timestamp='2022-02-02', ValuePerUnit_EURO=22.22)\n",
      "x[0]: Williams\n",
      "----------\n",
      "x[1]: (Row(TransactionID=3, Timestamp='1978-09-05', UserID='W2', CompanySymbol='Williams', Volume=12, Action='Buy'), Row(CompanySymbol='Williams', Timestamp='2022-02-01', ValuePerUnit_EURO=43.43))\n",
      "----------\n",
      "x[1][0]:  Row(TransactionID=3, Timestamp='1978-09-05', UserID='W2', CompanySymbol='Williams', Volume=12, Action='Buy')\n",
      "x[1][1]:  Row(CompanySymbol='Williams', Timestamp='2022-02-01', ValuePerUnit_EURO=43.43)\n",
      "x[0]: Jones\n",
      "----------\n",
      "x[1]: (Row(TransactionID=4, Timestamp='1967-12-01', UserID='J3', CompanySymbol='Jones', Volume=27, Action='Buy'), Row(CompanySymbol='Jones', Timestamp='2022-02-04', ValuePerUnit_EURO=35.35))\n",
      "----------\n",
      "x[1][0]:  Row(TransactionID=4, Timestamp='1967-12-01', UserID='J3', CompanySymbol='Jones', Volume=27, Action='Buy')\n",
      "x[1][1]:  Row(CompanySymbol='Jones', Timestamp='2022-02-04', ValuePerUnit_EURO=35.35)\n",
      "x[0]: Brown\n",
      "----------\n",
      "x[1]: (Row(TransactionID=5, Timestamp='2020-09-05', UserID='B4', CompanySymbol='Brown', Volume=160, Action='Sell'), Row(CompanySymbol='Brown', Timestamp='2022-02-03', ValuePerUnit_EURO=56.56))\n",
      "----------\n",
      "x[1][0]:  Row(TransactionID=5, Timestamp='2020-09-05', UserID='B4', CompanySymbol='Brown', Volume=160, Action='Sell')\n",
      "x[1][1]:  Row(CompanySymbol='Brown', Timestamp='2022-02-03', ValuePerUnit_EURO=56.56)\n",
      "x[0]: Brown\n",
      "----------\n",
      "x[1]: (Row(TransactionID=9, Timestamp='2020-09-05', UserID='B5', CompanySymbol='Brown', Volume=16, Action='Sell'), Row(CompanySymbol='Brown', Timestamp='2022-02-03', ValuePerUnit_EURO=56.56))\n",
      "----------\n",
      "x[1][0]:  Row(TransactionID=9, Timestamp='2020-09-05', UserID='B5', CompanySymbol='Brown', Volume=16, Action='Sell')\n",
      "x[1][1]:  Row(CompanySymbol='Brown', Timestamp='2022-02-03', ValuePerUnit_EURO=56.56)\n",
      "x[0]: Brown\n",
      "----------\n",
      "x[1]: (Row(TransactionID=10, Timestamp='2020-09-05', UserID='B6', CompanySymbol='Brown', Volume=198, Action='Sell'), Row(CompanySymbol='Brown', Timestamp='2022-02-03', ValuePerUnit_EURO=56.56))\n",
      "----------\n",
      "x[1][0]:  Row(TransactionID=10, Timestamp='2020-09-05', UserID='B6', CompanySymbol='Brown', Volume=198, Action='Sell')\n",
      "x[1][1]:  Row(CompanySymbol='Brown', Timestamp='2022-02-03', ValuePerUnit_EURO=56.56)\n"
     ]
    },
    {
     "data": {
      "text/plain": [
       "[{'CompanySymbol': 'Smith', 'UserID': 'S0'},\n",
       " {'CompanySymbol': 'Ford', 'UserID': 'F1'},\n",
       " {'CompanySymbol': 'Williams', 'UserID': 'W2'},\n",
       " {'CompanySymbol': 'Jones', 'UserID': 'J3'},\n",
       " {'CompanySymbol': 'Brown', 'UserID': 'B4'},\n",
       " {'CompanySymbol': 'Brown', 'UserID': 'B5'},\n",
       " {'CompanySymbol': 'Brown', 'UserID': 'B6'}]"
      ]
     },
     "execution_count": 284,
     "metadata": {},
     "output_type": "execute_result"
    }
   ],
   "source": [
    "transactions_with_prices_rdd.collect()"
   ]
  }
 ],
 "metadata": {
  "kernelspec": {
   "display_name": "Python 3 (ipykernel)",
   "language": "python",
   "name": "python3"
  },
  "language_info": {
   "codemirror_mode": {
    "name": "ipython",
    "version": 3
   },
   "file_extension": ".py",
   "mimetype": "text/x-python",
   "name": "python",
   "nbconvert_exporter": "python",
   "pygments_lexer": "ipython3",
   "version": "3.9.7"
  }
 },
 "nbformat": 4,
 "nbformat_minor": 5
}
