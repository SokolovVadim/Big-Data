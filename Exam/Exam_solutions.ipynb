{
 "cells": [
  {
   "cell_type": "code",
   "execution_count": 1,
   "id": "e4f54504",
   "metadata": {},
   "outputs": [],
   "source": [
    "import pyspark"
   ]
  },
  {
   "cell_type": "code",
   "execution_count": 7,
   "id": "9efa7c30",
   "metadata": {},
   "outputs": [],
   "source": [
    "from pyspark.sql import SparkSession"
   ]
  },
  {
   "cell_type": "code",
   "execution_count": 2,
   "id": "7eaec6de",
   "metadata": {},
   "outputs": [
    {
     "name": "stderr",
     "output_type": "stream",
     "text": [
      "WARNING: An illegal reflective access operation has occurred\n",
      "WARNING: Illegal reflective access by org.apache.spark.unsafe.Platform (file:/usr/local/spark-3.2.0-bin-hadoop3.2/jars/spark-unsafe_2.12-3.2.0.jar) to constructor java.nio.DirectByteBuffer(long,int)\n",
      "WARNING: Please consider reporting this to the maintainers of org.apache.spark.unsafe.Platform\n",
      "WARNING: Use --illegal-access=warn to enable warnings of further illegal reflective access operations\n",
      "WARNING: All illegal access operations will be denied in a future release\n",
      "Using Spark's default log4j profile: org/apache/spark/log4j-defaults.properties\n",
      "Setting default log level to \"WARN\".\n",
      "To adjust logging level use sc.setLogLevel(newLevel). For SparkR, use setLogLevel(newLevel).\n",
      "22/02/04 19:56:22 WARN NativeCodeLoader: Unable to load native-hadoop library for your platform... using builtin-java classes where applicable\n"
     ]
    }
   ],
   "source": [
    "sc = pyspark.SparkContext(\"local[*]\")"
   ]
  },
  {
   "cell_type": "code",
   "execution_count": 9,
   "id": "6a358587",
   "metadata": {},
   "outputs": [],
   "source": [
    "spark = SparkSession.builder\\\n",
    "      .master(\"local[1]\")\\\n",
    "      .appName(\"exam_solutions\")\\\n",
    "      .getOrCreate() "
   ]
  },
  {
   "cell_type": "code",
   "execution_count": 11,
   "id": "e2f4465b",
   "metadata": {},
   "outputs": [],
   "source": [
    "rdd = spark.sparkContext.textFile(\"data.txt\")"
   ]
  },
  {
   "cell_type": "code",
   "execution_count": 12,
   "id": "d993ff0d",
   "metadata": {},
   "outputs": [
    {
     "name": "stderr",
     "output_type": "stream",
     "text": [
      "                                                                                \r"
     ]
    },
    {
     "data": {
      "text/plain": [
       "'Name Surname'"
      ]
     },
     "execution_count": 12,
     "metadata": {},
     "output_type": "execute_result"
    }
   ],
   "source": [
    "rdd.first()"
   ]
  },
  {
   "cell_type": "code",
   "execution_count": 32,
   "id": "428a3fc8",
   "metadata": {},
   "outputs": [],
   "source": [
    "# TransactionID:Int | Timestamp:Datetime | UserID:String | CompanySymbol:String | Volume:Int| Action:String\n",
    "transactions = [('1991-04-01',0,'Smith',20,'Buy'),\n",
    "  ('2000-05-19',1,'Ford',100,'Sell'),\n",
    "  ('1978-09-05',2,'Williams',12,'Buy'),\n",
    "  ('1967-12-01',3,'Jones',27,'Buy'),\n",
    "  ('1980-02-17',4,'Brown',160,'Sell')\n",
    "]\n",
    "\n",
    "transactions_columns = [\"Timestamp\",\"UserID\",\"CompanySymbol\",\"Volume\",\"Action\"]\n",
    "df_trans = spark.createDataFrame(data=transactions, schema = transactions_columns)"
   ]
  },
  {
   "cell_type": "code",
   "execution_count": 33,
   "id": "98f7dae0",
   "metadata": {},
   "outputs": [
    {
     "name": "stdout",
     "output_type": "stream",
     "text": [
      "+----------+------+-------------+------+------+\n",
      "| Timestamp|UserID|CompanySymbol|Volume|Action|\n",
      "+----------+------+-------------+------+------+\n",
      "|1991-04-01|     0|        Smith|    20|   Buy|\n",
      "|2000-05-19|     1|         Ford|   100|  Sell|\n",
      "|1978-09-05|     2|     Williams|    12|   Buy|\n",
      "|1967-12-01|     3|        Jones|    27|   Buy|\n",
      "|1980-02-17|     4|        Brown|   160|  Sell|\n",
      "+----------+------+-------------+------+------+\n",
      "\n"
     ]
    }
   ],
   "source": [
    "df_trans.show()"
   ]
  },
  {
   "cell_type": "code",
   "execution_count": 37,
   "id": "39edad31",
   "metadata": {},
   "outputs": [],
   "source": [
    "# CompanySymbol:String | Timestamp:Datetime | ValuePerUnit_EURO: Float\n",
    "prices = [('Smith', '2022-02-01', 12.12),\n",
    "         ('Ford', '2022-02-02', 22.22),\n",
    "         ('Williams', '2022-02-01', 43.43),\n",
    "         ('Jones', '2022-02-04', 35.35),\n",
    "         ('Brown', '2022-02-03', 56.56)\n",
    "]\n",
    "\n",
    "prices_columns = [\"CompanySymbol\", \"Timestamp\", \"ValuePerUnit_EURO\"]\n",
    "df_prices = spark.createDataFrame(data = prices, schema = prices_columns)"
   ]
  },
  {
   "cell_type": "code",
   "execution_count": 38,
   "id": "4752b9ed",
   "metadata": {},
   "outputs": [
    {
     "name": "stdout",
     "output_type": "stream",
     "text": [
      "+-------------+----------+-----------------+\n",
      "|CompanySymbol| Timestamp|ValuePerUnit_EURO|\n",
      "+-------------+----------+-----------------+\n",
      "|        Smith|2022-02-01|            12.12|\n",
      "|         Ford|2022-02-02|            22.22|\n",
      "|     Williams|2022-02-01|            43.43|\n",
      "|        Jones|2022-02-04|            35.35|\n",
      "|        Brown|2022-02-03|            56.56|\n",
      "+-------------+----------+-----------------+\n",
      "\n"
     ]
    }
   ],
   "source": [
    "df_prices.show()"
   ]
  }
 ],
 "metadata": {
  "kernelspec": {
   "display_name": "Python 3 (ipykernel)",
   "language": "python",
   "name": "python3"
  },
  "language_info": {
   "codemirror_mode": {
    "name": "ipython",
    "version": 3
   },
   "file_extension": ".py",
   "mimetype": "text/x-python",
   "name": "python",
   "nbconvert_exporter": "python",
   "pygments_lexer": "ipython3",
   "version": "3.9.7"
  }
 },
 "nbformat": 4,
 "nbformat_minor": 5
}
