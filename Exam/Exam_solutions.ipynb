{
 "cells": [
  {
   "cell_type": "code",
   "execution_count": 177,
   "id": "e4f54504",
   "metadata": {},
   "outputs": [],
   "source": [
    "import pyspark"
   ]
  },
  {
   "cell_type": "code",
   "execution_count": 178,
   "id": "9efa7c30",
   "metadata": {},
   "outputs": [],
   "source": [
    "from pyspark.sql import SparkSession"
   ]
  },
  {
   "cell_type": "code",
   "execution_count": 2,
   "id": "7eaec6de",
   "metadata": {
    "scrolled": true
   },
   "outputs": [
    {
     "name": "stderr",
     "output_type": "stream",
     "text": [
      "WARNING: An illegal reflective access operation has occurred\n",
      "WARNING: Illegal reflective access by org.apache.spark.unsafe.Platform (file:/usr/local/spark-3.2.0-bin-hadoop3.2/jars/spark-unsafe_2.12-3.2.0.jar) to constructor java.nio.DirectByteBuffer(long,int)\n",
      "WARNING: Please consider reporting this to the maintainers of org.apache.spark.unsafe.Platform\n",
      "WARNING: Use --illegal-access=warn to enable warnings of further illegal reflective access operations\n",
      "WARNING: All illegal access operations will be denied in a future release\n",
      "Using Spark's default log4j profile: org/apache/spark/log4j-defaults.properties\n",
      "Setting default log level to \"WARN\".\n",
      "To adjust logging level use sc.setLogLevel(newLevel). For SparkR, use setLogLevel(newLevel).\n",
      "22/02/04 19:56:22 WARN NativeCodeLoader: Unable to load native-hadoop library for your platform... using builtin-java classes where applicable\n"
     ]
    }
   ],
   "source": [
    "sc = pyspark.SparkContext(\"local[*]\")"
   ]
  },
  {
   "cell_type": "code",
   "execution_count": 184,
   "id": "6a358587",
   "metadata": {},
   "outputs": [],
   "source": [
    "spark = SparkSession.builder\\\n",
    "      .master(\"local[1]\")\\\n",
    "      .appName(\"exam_solutions\")\\\n",
    "      .getOrCreate() "
   ]
  },
  {
   "cell_type": "code",
   "execution_count": 180,
   "id": "e2f4465b",
   "metadata": {},
   "outputs": [],
   "source": [
    "rdd = spark.sparkContext.textFile(\"data.txt\")"
   ]
  },
  {
   "cell_type": "code",
   "execution_count": 183,
   "id": "d993ff0d",
   "metadata": {},
   "outputs": [
    {
     "data": {
      "text/plain": [
       "data.txt MapPartitionsRDD[414] at textFile at NativeMethodAccessorImpl.java:0"
      ]
     },
     "execution_count": 183,
     "metadata": {},
     "output_type": "execute_result"
    }
   ],
   "source": [
    "rdd.first()"
   ]
  },
  {
   "cell_type": "code",
   "execution_count": 185,
   "id": "428a3fc8",
   "metadata": {},
   "outputs": [],
   "source": [
    "# TransactionID:Int | Timestamp:Datetime | UserID:String | CompanySymbol:String | Volume:Int| Action:String\n",
    "transactions = [(0, '1991-04-01','S0','Smith',20,'Buy'),\n",
    "  (1, '2000-05-19','F1','Ford',100,'Sell'),\n",
    "  (2, '2020-09-05', 'HAL9000', 'Hal', 98, 'Sell'),\n",
    "  (3, '1978-09-05','W2','Williams',12,'Buy'),\n",
    "  (4, '1967-12-01','J3','Jones',27,'Buy'),\n",
    "  (5, '2020-09-05','B4','Brown',160,'Sell'),\n",
    "  (6, '2020-03-05', 'HAL9000', 'Hal', 134, 'Buy'),\n",
    "  (7, '2020-09-05', 'J7', 'John', 27, 'Sell'),\n",
    "  (8, '2020-09-05', 'J8', 'John', 16, 'Sell'),\n",
    "  (9, '2020-09-05','B5','Brown',16,'Sell'),\n",
    "  (10, '2020-09-05','B6','Brown',198,'Sell'),\n",
    "  (11, '2020-09-05', 'HAL9090', 'Hal', 1234, 'Buy'),\n",
    "]\n",
    "\n",
    "transactions_columns = [\"TransactionID\", \"Timestamp\",\"UserID\",\"CompanySymbol\",\"Volume\",\"Action\"]\n",
    "df_trans = spark.createDataFrame(data=transactions, schema = transactions_columns)"
   ]
  },
  {
   "cell_type": "code",
   "execution_count": 186,
   "id": "98f7dae0",
   "metadata": {},
   "outputs": [
    {
     "name": "stdout",
     "output_type": "stream",
     "text": [
      "+-------------+----------+-------+-------------+------+------+\n",
      "|TransactionID| Timestamp| UserID|CompanySymbol|Volume|Action|\n",
      "+-------------+----------+-------+-------------+------+------+\n",
      "|            0|1991-04-01|     S0|        Smith|    20|   Buy|\n",
      "|            1|2000-05-19|     F1|         Ford|   100|  Sell|\n",
      "|            2|2020-09-05|HAL9000|          Hal|    98|  Sell|\n",
      "|            3|1978-09-05|     W2|     Williams|    12|   Buy|\n",
      "|            4|1967-12-01|     J3|        Jones|    27|   Buy|\n",
      "|            5|2020-09-05|     B4|        Brown|   160|  Sell|\n",
      "|            6|2020-03-05|HAL9000|          Hal|   134|   Buy|\n",
      "|            7|2020-09-05|     J7|         John|    27|  Sell|\n",
      "|            8|2020-09-05|     J8|         John|    16|  Sell|\n",
      "|            9|2020-09-05|     B5|        Brown|    16|  Sell|\n",
      "|           10|2020-09-05|     B6|        Brown|   198|  Sell|\n",
      "|           11|2020-09-05|HAL9090|          Hal|  1234|   Buy|\n",
      "+-------------+----------+-------+-------------+------+------+\n",
      "\n"
     ]
    }
   ],
   "source": [
    "df_trans.show()"
   ]
  },
  {
   "cell_type": "code",
   "execution_count": 410,
   "id": "39edad31",
   "metadata": {},
   "outputs": [],
   "source": [
    "# CompanySymbol:String | Timestamp:Datetime | ValuePerUnit_EURO: Float\n",
    "prices = [('Smith', '2016-02-01', 12.12),\n",
    "         ('Ford', '2022-02-02', 22.22),\n",
    "         ('Williams', '2022-02-01', 43.43),\n",
    "         ('Jones', '2022-02-04', 35.35),\n",
    "         ('Brown', '2009-02-03', 56.56)\n",
    "]\n",
    "\n",
    "prices_columns = [\"CompanySymbol\", \"Timestamp\", \"ValuePerUnit_EURO\"]\n",
    "df_prices = spark.createDataFrame(data = prices, schema = prices_columns)"
   ]
  },
  {
   "cell_type": "code",
   "execution_count": 411,
   "id": "4752b9ed",
   "metadata": {},
   "outputs": [
    {
     "name": "stdout",
     "output_type": "stream",
     "text": [
      "+-------------+----------+-----------------+\n",
      "|CompanySymbol| Timestamp|ValuePerUnit_EURO|\n",
      "+-------------+----------+-----------------+\n",
      "|        Smith|2016-02-01|            12.12|\n",
      "|         Ford|2022-02-02|            22.22|\n",
      "|     Williams|2022-02-01|            43.43|\n",
      "|        Jones|2022-02-04|            35.35|\n",
      "|        Brown|2009-02-03|            56.56|\n",
      "+-------------+----------+-----------------+\n",
      "\n"
     ]
    }
   ],
   "source": [
    "df_prices.show()"
   ]
  },
  {
   "cell_type": "code",
   "execution_count": null,
   "id": "00dc682e",
   "metadata": {},
   "outputs": [],
   "source": [
    "# 1. Total Number of transactions"
   ]
  },
  {
   "cell_type": "code",
   "execution_count": 412,
   "id": "b9d2eb58",
   "metadata": {},
   "outputs": [
    {
     "data": {
      "text/plain": [
       "12"
      ]
     },
     "execution_count": 412,
     "metadata": {},
     "output_type": "execute_result"
    }
   ],
   "source": [
    "df_trans.count()"
   ]
  },
  {
   "cell_type": "code",
   "execution_count": null,
   "id": "ed66a74a",
   "metadata": {},
   "outputs": [],
   "source": [
    "# 2. Number of Transactions done by the user “HAL9000”"
   ]
  },
  {
   "cell_type": "code",
   "execution_count": 413,
   "id": "77f2268b",
   "metadata": {},
   "outputs": [],
   "source": [
    "import pyspark.sql.functions as f"
   ]
  },
  {
   "cell_type": "code",
   "execution_count": 414,
   "id": "3662995b",
   "metadata": {},
   "outputs": [
    {
     "data": {
      "text/plain": [
       "2"
      ]
     },
     "execution_count": 414,
     "metadata": {},
     "output_type": "execute_result"
    }
   ],
   "source": [
    "df_trans.filter(f.col('UserID') == 'HAL9000').count()"
   ]
  },
  {
   "cell_type": "code",
   "execution_count": null,
   "id": "fb9f2a88",
   "metadata": {},
   "outputs": [],
   "source": [
    "# 3. Number of transactions per day"
   ]
  },
  {
   "cell_type": "code",
   "execution_count": 433,
   "id": "51bff056",
   "metadata": {},
   "outputs": [],
   "source": [
    "rdd_trans = df_trans.rdd"
   ]
  },
  {
   "cell_type": "code",
   "execution_count": 434,
   "id": "605f316c",
   "metadata": {},
   "outputs": [
    {
     "data": {
      "text/plain": [
       "[('1991-04-01', 1),\n",
       " ('2000-05-19', 1),\n",
       " ('2020-09-05', 7),\n",
       " ('1978-09-05', 1),\n",
       " ('1967-12-01', 1),\n",
       " ('2020-03-05', 1)]"
      ]
     },
     "execution_count": 434,
     "metadata": {},
     "output_type": "execute_result"
    }
   ],
   "source": [
    "rdd_trans.map(lambda x: (x.Timestamp, 1)).reduceByKey(lambda x, y: x + y).collect()"
   ]
  },
  {
   "cell_type": "code",
   "execution_count": 46,
   "id": "2c3f924c",
   "metadata": {},
   "outputs": [],
   "source": [
    "# 4. Average Daily Transactions per company\n",
    "# (i..e, On average, how much transaction each company does every day)\n",
    "# during the week 42 of 2021"
   ]
  },
  {
   "cell_type": "code",
   "execution_count": 48,
   "id": "39e41e3d",
   "metadata": {},
   "outputs": [],
   "source": [
    "# 1. filter week 42\n",
    "# 2. map to pairs (company, coeff_per_day)\n",
    "# 3. count and divide by num_days_per_working_week <=> 5"
   ]
  },
  {
   "cell_type": "code",
   "execution_count": 435,
   "id": "66eeb08d",
   "metadata": {},
   "outputs": [],
   "source": [
    "#total_trans_num_week42 = df_trans.filter(f.col('Timestamp') == '2020-09-05')\\\n",
    "df_week42 = df_trans.filter(f.col('Timestamp') == '2020-09-05')\n",
    "rdd_week42 = df_week42.rdd\n",
    "total_trans_num_week42 = rdd_week42.map(lambda x: (x.CompanySymbol, 1))\\\n",
    "  .reduceByKey(lambda x, y: (x + y) / 5)"
   ]
  },
  {
   "cell_type": "code",
   "execution_count": 436,
   "id": "dc034e7a",
   "metadata": {},
   "outputs": [
    {
     "data": {
      "text/plain": [
       "[('Hal', 0.4), ('Brown', 0.27999999999999997), ('John', 0.4)]"
      ]
     },
     "execution_count": 436,
     "metadata": {},
     "output_type": "execute_result"
    }
   ],
   "source": [
    "total_trans_num_week42.collect()"
   ]
  },
  {
   "cell_type": "code",
   "execution_count": 437,
   "id": "7c56b71e",
   "metadata": {},
   "outputs": [
    {
     "data": {
      "text/plain": [
       "3"
      ]
     },
     "execution_count": 437,
     "metadata": {},
     "output_type": "execute_result"
    }
   ],
   "source": [
    "total_trans_num_week42.count()"
   ]
  },
  {
   "cell_type": "code",
   "execution_count": 119,
   "id": "23699040",
   "metadata": {},
   "outputs": [],
   "source": [
    "# 5. Total Amount of Euro spent by each user"
   ]
  },
  {
   "cell_type": "code",
   "execution_count": null,
   "id": "3a5e5f02",
   "metadata": {},
   "outputs": [],
   "source": [
    "# 1. join two tables\n",
    "# 2. calculate total sum with price and value\n",
    "# 2. filter current prices\n",
    "# 3. calculate sum for each user taking into account Action"
   ]
  },
  {
   "cell_type": "code",
   "execution_count": 446,
   "id": "11a483dc",
   "metadata": {},
   "outputs": [],
   "source": [
    "rdd_prices = df_prices.rdd"
   ]
  },
  {
   "cell_type": "code",
   "execution_count": 447,
   "id": "5ca11a5b",
   "metadata": {},
   "outputs": [],
   "source": [
    "transactions_with_prices_rdd = rdd_trans.map(lambda x: (x.CompanySymbol, x))\\\n",
    "    .join(rdd_prices.map(lambda x: (x.CompanySymbol, x)))"
   ]
  },
  {
   "cell_type": "code",
   "execution_count": 448,
   "id": "1d48abd1",
   "metadata": {},
   "outputs": [
    {
     "data": {
      "text/plain": [
       "('Smith',\n",
       " (Row(TransactionID=0, Timestamp='1991-04-01', UserID='S0', CompanySymbol='Smith', Volume=20, Action='Buy'),\n",
       "  Row(CompanySymbol='Smith', Timestamp='2016-02-01', ValuePerUnit_EURO=12.12)))"
      ]
     },
     "execution_count": 448,
     "metadata": {},
     "output_type": "execute_result"
    }
   ],
   "source": [
    "transactions_with_prices_rdd.first()"
   ]
  },
  {
   "cell_type": "code",
   "execution_count": 449,
   "id": "8790e0c9",
   "metadata": {},
   "outputs": [],
   "source": [
    "def createNewTable(x):\n",
    "    #print('x[0]:', x[0])\n",
    "    #print('----------')\n",
    "    #print('x[1]:', x[1])\n",
    "    #print('----------')\n",
    "    #print('x[1][0]: ', x[1][0])\n",
    "    #print('x[1][1]: ', x[1][1])\n",
    "    ts_0 = int(x[1][0].Timestamp[:4])\n",
    "    ts_1 = int(x[1][1].Timestamp[:4])\n",
    "    return {\"CompanySymbol\":x[0],\n",
    "            \"UserID\":x[1][0].UserID,\n",
    "            \"ID\":x[1][0].TransactionID,\n",
    "            \"Action\":x[1][0].Action,\n",
    "            \"Volumes\":x[1][0].Volume,\n",
    "            \"pricePerUnit\":x[1][1].ValuePerUnit_EURO,\n",
    "            \"moneyValue\":x[1][0].Volume * x[1][1].ValuePerUnit_EURO,\n",
    "            \"ts\":ts_0,\n",
    "            \"deltaTs\":ts_1 - ts_0\n",
    "           }"
   ]
  },
  {
   "cell_type": "code",
   "execution_count": 450,
   "id": "42695261",
   "metadata": {},
   "outputs": [],
   "source": [
    "# PickUpErrorRDD.map(lambda row: (row.get(\"McID\"),row.get(\"TimeStamp\"))).reduceByKey(lambda valLeft,valRight: max(valLeft, valRight)).map(lambda x: {\"lastTS\":x[1],\"McID\":x[0]}).collect()\n",
    "# [\"TransactionID\", \"Timestamp\",\"UserID\",\"CompanySymbol\",\"Volume\",\"Action\"]\n",
    "# [\"CompanySymbol\", \"Timestamp\", \"ValuePerUnit_EURO\"]\n",
    "transactions_with_prices_rdd = transactions_with_prices_rdd.map(lambda x: createNewTable(x))"
   ]
  },
  {
   "cell_type": "code",
   "execution_count": 451,
   "id": "88b33c99",
   "metadata": {},
   "outputs": [
    {
     "data": {
      "text/plain": [
       "[{'CompanySymbol': 'Smith',\n",
       "  'UserID': 'S0',\n",
       "  'ID': 0,\n",
       "  'Action': 'Buy',\n",
       "  'Volumes': 20,\n",
       "  'pricePerUnit': 12.12,\n",
       "  'moneyValue': 242.39999999999998,\n",
       "  'ts': 1991,\n",
       "  'deltaTs': 25},\n",
       " {'CompanySymbol': 'Ford',\n",
       "  'UserID': 'F1',\n",
       "  'ID': 1,\n",
       "  'Action': 'Sell',\n",
       "  'Volumes': 100,\n",
       "  'pricePerUnit': 22.22,\n",
       "  'moneyValue': 2222.0,\n",
       "  'ts': 2000,\n",
       "  'deltaTs': 22},\n",
       " {'CompanySymbol': 'Williams',\n",
       "  'UserID': 'W2',\n",
       "  'ID': 3,\n",
       "  'Action': 'Buy',\n",
       "  'Volumes': 12,\n",
       "  'pricePerUnit': 43.43,\n",
       "  'moneyValue': 521.16,\n",
       "  'ts': 1978,\n",
       "  'deltaTs': 44},\n",
       " {'CompanySymbol': 'Jones',\n",
       "  'UserID': 'J3',\n",
       "  'ID': 4,\n",
       "  'Action': 'Buy',\n",
       "  'Volumes': 27,\n",
       "  'pricePerUnit': 35.35,\n",
       "  'moneyValue': 954.45,\n",
       "  'ts': 1967,\n",
       "  'deltaTs': 55},\n",
       " {'CompanySymbol': 'Brown',\n",
       "  'UserID': 'B4',\n",
       "  'ID': 5,\n",
       "  'Action': 'Sell',\n",
       "  'Volumes': 160,\n",
       "  'pricePerUnit': 56.56,\n",
       "  'moneyValue': 9049.6,\n",
       "  'ts': 2020,\n",
       "  'deltaTs': -11},\n",
       " {'CompanySymbol': 'Brown',\n",
       "  'UserID': 'B5',\n",
       "  'ID': 9,\n",
       "  'Action': 'Sell',\n",
       "  'Volumes': 16,\n",
       "  'pricePerUnit': 56.56,\n",
       "  'moneyValue': 904.96,\n",
       "  'ts': 2020,\n",
       "  'deltaTs': -11},\n",
       " {'CompanySymbol': 'Brown',\n",
       "  'UserID': 'B6',\n",
       "  'ID': 10,\n",
       "  'Action': 'Sell',\n",
       "  'Volumes': 198,\n",
       "  'pricePerUnit': 56.56,\n",
       "  'moneyValue': 11198.880000000001,\n",
       "  'ts': 2020,\n",
       "  'deltaTs': -11}]"
      ]
     },
     "execution_count": 451,
     "metadata": {},
     "output_type": "execute_result"
    }
   ],
   "source": [
    "transactions_with_prices_rdd.collect()"
   ]
  },
  {
   "cell_type": "code",
   "execution_count": 383,
   "id": "d10b160a",
   "metadata": {},
   "outputs": [],
   "source": [
    "# x[0] == schema\n",
    "# x[1] == table1 || table2\n",
    "# x[1][0] == table1\n",
    "# x[1][1] == table2"
   ]
  },
  {
   "cell_type": "code",
   "execution_count": 455,
   "id": "9c45ee80",
   "metadata": {},
   "outputs": [],
   "source": [
    "transactions_with_prices_rdd_filtered = transactions_with_prices_rdd.filter(lambda x: x.get(\"deltaTs\") > 0)\\\n",
    "    .map(lambda x: (x.get(\"ID\"),(x)))\\\n",
    "    .reduceByKey(lambda x, y: x if x.get(\"deltaTs\") < y.get(\"deltaTs\") else y)\\\n",
    "    .map(lambda x: x[1])"
   ]
  },
  {
   "cell_type": "code",
   "execution_count": 458,
   "id": "c41e19fb",
   "metadata": {},
   "outputs": [
    {
     "data": {
      "text/plain": [
       "[{'CompanySymbol': 'Smith',\n",
       "  'UserID': 'S0',\n",
       "  'ID': 0,\n",
       "  'Action': 'Buy',\n",
       "  'Volumes': 20,\n",
       "  'pricePerUnit': 12.12,\n",
       "  'moneyValue': 242.39999999999998,\n",
       "  'ts': 1991,\n",
       "  'deltaTs': 25},\n",
       " {'CompanySymbol': 'Jones',\n",
       "  'UserID': 'J3',\n",
       "  'ID': 4,\n",
       "  'Action': 'Buy',\n",
       "  'Volumes': 27,\n",
       "  'pricePerUnit': 35.35,\n",
       "  'moneyValue': 954.45,\n",
       "  'ts': 1967,\n",
       "  'deltaTs': 55},\n",
       " {'CompanySymbol': 'Ford',\n",
       "  'UserID': 'F1',\n",
       "  'ID': 1,\n",
       "  'Action': 'Sell',\n",
       "  'Volumes': 100,\n",
       "  'pricePerUnit': 22.22,\n",
       "  'moneyValue': 2222.0,\n",
       "  'ts': 2000,\n",
       "  'deltaTs': 22},\n",
       " {'CompanySymbol': 'Williams',\n",
       "  'UserID': 'W2',\n",
       "  'ID': 3,\n",
       "  'Action': 'Buy',\n",
       "  'Volumes': 12,\n",
       "  'pricePerUnit': 43.43,\n",
       "  'moneyValue': 521.16,\n",
       "  'ts': 1978,\n",
       "  'deltaTs': 44}]"
      ]
     },
     "execution_count": 458,
     "metadata": {},
     "output_type": "execute_result"
    }
   ],
   "source": [
    "transactions_with_prices_rdd_filtered.collect()"
   ]
  },
  {
   "cell_type": "code",
   "execution_count": 464,
   "id": "ecab640d",
   "metadata": {},
   "outputs": [],
   "source": [
    "spent_by_user = transactions_with_prices_rdd_filtered.filter(lambda x: x.get(\"Action\") == 'Buy')\\\n",
    "    .map(lambda x: (x.get(\"UserID\"), x.get(\"moneyValue\")))\\\n",
    "    .reduceByKey(lambda x, y: x + y)"
   ]
  },
  {
   "cell_type": "code",
   "execution_count": 468,
   "id": "abcd5d90",
   "metadata": {},
   "outputs": [
    {
     "data": {
      "text/plain": [
       "[('S0', 242.39999999999998), ('W2', 521.16), ('J3', 954.45)]"
      ]
     },
     "execution_count": 468,
     "metadata": {},
     "output_type": "execute_result"
    }
   ],
   "source": [
    "spent_by_user.collect()"
   ]
  }
 ],
 "metadata": {
  "kernelspec": {
   "display_name": "Python 3 (ipykernel)",
   "language": "python",
   "name": "python3"
  },
  "language_info": {
   "codemirror_mode": {
    "name": "ipython",
    "version": 3
   },
   "file_extension": ".py",
   "mimetype": "text/x-python",
   "name": "python",
   "nbconvert_exporter": "python",
   "pygments_lexer": "ipython3",
   "version": "3.9.7"
  }
 },
 "nbformat": 4,
 "nbformat_minor": 5
}
