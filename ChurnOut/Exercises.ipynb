{
 "cells": [
  {
   "cell_type": "code",
   "execution_count": 1,
   "id": "20acab5d",
   "metadata": {},
   "outputs": [
    {
     "name": "stderr",
     "output_type": "stream",
     "text": [
      "WARNING: An illegal reflective access operation has occurred\n",
      "WARNING: Illegal reflective access by org.apache.spark.unsafe.Platform (file:/usr/local/spark-3.2.0-bin-hadoop3.2/jars/spark-unsafe_2.12-3.2.0.jar) to constructor java.nio.DirectByteBuffer(long,int)\n",
      "WARNING: Please consider reporting this to the maintainers of org.apache.spark.unsafe.Platform\n",
      "WARNING: Use --illegal-access=warn to enable warnings of further illegal reflective access operations\n",
      "WARNING: All illegal access operations will be denied in a future release\n",
      "Using Spark's default log4j profile: org/apache/spark/log4j-defaults.properties\n",
      "Setting default log level to \"WARN\".\n",
      "To adjust logging level use sc.setLogLevel(newLevel). For SparkR, use setLogLevel(newLevel).\n",
      "22/01/19 16:54:54 WARN NativeCodeLoader: Unable to load native-hadoop library for your platform... using builtin-java classes where applicable\n",
      "22/01/19 16:54:59 WARN Utils: Service 'SparkUI' could not bind on port 4040. Attempting port 4041.\n",
      "22/01/19 16:54:59 WARN Utils: Service 'SparkUI' could not bind on port 4041. Attempting port 4042.\n"
     ]
    }
   ],
   "source": [
    "import pyspark\n",
    "from pyspark.context import SparkContext\n",
    "from pyspark.sql import SparkSession\n",
    "spark = SparkSession.builder \\\n",
    "    .master(\"local\") \\\n",
    "    .appName(\"Exercises\") \\\n",
    "    .getOrCreate()"
   ]
  },
  {
   "cell_type": "code",
   "execution_count": 185,
   "id": "69893f47",
   "metadata": {},
   "outputs": [],
   "source": [
    "event_table = spark.read.csv('EventTable.csv')\n",
    "user_table = spark.read.csv('UserTable.csv')\n",
    "video_table = spark.read.csv('VideoTable.csv')\n",
    "series_table = spark.read.csv('SeriesTable.csv')"
   ]
  },
  {
   "cell_type": "code",
   "execution_count": 186,
   "id": "72ffaf11",
   "metadata": {},
   "outputs": [
    {
     "name": "stdout",
     "output_type": "stream",
     "text": [
      "TS UserID ItemID\n",
      "+-----+---+---+\n",
      "|  _c0|_c1|_c2|\n",
      "+-----+---+---+\n",
      "|12:15|  1|  1|\n",
      "|12:20|  1|  2|\n",
      "|12:30|  2|  1|\n",
      "|12:40|  2|  2|\n",
      "|12:50|  1|  3|\n",
      "+-----+---+---+\n",
      "\n",
      "UserID RegDate BirthDate SubscrTag\n",
      "+---+-----------+-----------+---------+\n",
      "|_c0|        _c1|        _c2|      _c3|\n",
      "+---+-----------+-----------+---------+\n",
      "|  1| 12.11.2001| 10.10.1990|   Active|\n",
      "|  2| 10.06.2001| 05.05.1991| ChurnOut|\n",
      "+---+-----------+-----------+---------+\n",
      "\n",
      "ItemID Genre LengthSec\n",
      "+---+------+---+\n",
      "|_c0|   _c1|_c2|\n",
      "+---+------+---+\n",
      "|  1|Comedy|100|\n",
      "|  2|Action|200|\n",
      "|  3|Comedy|300|\n",
      "+---+------+---+\n",
      "\n",
      "ItemID SeriesID SeriesName\n",
      "+---+---+-------+\n",
      "|_c0|_c1|    _c2|\n",
      "+---+---+-------+\n",
      "|  1| 10|Series0|\n",
      "|  2| 11|Series1|\n",
      "+---+---+-------+\n",
      "\n"
     ]
    }
   ],
   "source": [
    "print(\"TS UserID ItemID\")\n",
    "event_table.show()\n",
    "print(\"UserID RegDate BirthDate SubscrTag\")\n",
    "user_table.show()\n",
    "print(\"ItemID Genre LengthSec\")\n",
    "video_table.show()\n",
    "print(\"ItemID SeriesID SeriesName\")\n",
    "series_table.show()"
   ]
  },
  {
   "cell_type": "code",
   "execution_count": 39,
   "id": "6823fe55",
   "metadata": {},
   "outputs": [
    {
     "name": "stdout",
     "output_type": "stream",
     "text": [
      "+--------+\n",
      "|max(_c2)|\n",
      "+--------+\n",
      "|       2|\n",
      "+--------+\n",
      "\n"
     ]
    }
   ],
   "source": [
    "df.agg({\"_c2\": \"max\"}).show()"
   ]
  },
  {
   "cell_type": "code",
   "execution_count": 40,
   "id": "d069ffc1",
   "metadata": {},
   "outputs": [
    {
     "name": "stdout",
     "output_type": "stream",
     "text": [
      "+--------+\n",
      "|min(_c2)|\n",
      "+--------+\n",
      "|       1|\n",
      "+--------+\n",
      "\n"
     ]
    }
   ],
   "source": [
    "df.agg({\"_c2\": \"min\"}).show()"
   ]
  },
  {
   "cell_type": "code",
   "execution_count": 41,
   "id": "d42bdeff",
   "metadata": {},
   "outputs": [
    {
     "name": "stdout",
     "output_type": "stream",
     "text": [
      "+--------+\n",
      "|avg(_c2)|\n",
      "+--------+\n",
      "|     1.5|\n",
      "+--------+\n",
      "\n"
     ]
    }
   ],
   "source": [
    "df.agg({\"_c2\": \"avg\"}).show()"
   ]
  },
  {
   "cell_type": "code",
   "execution_count": 130,
   "id": "bc3f4959",
   "metadata": {},
   "outputs": [],
   "source": [
    "event_table_rdd = event_table.rdd"
   ]
  },
  {
   "cell_type": "code",
   "execution_count": 175,
   "id": "52643ac2",
   "metadata": {},
   "outputs": [
    {
     "data": {
      "text/plain": [
       "Row(_c0='12:15', _c1='1', _c2='1')"
      ]
     },
     "execution_count": 175,
     "metadata": {},
     "output_type": "execute_result"
    }
   ],
   "source": [
    "event_table_rdd.first()"
   ]
  },
  {
   "cell_type": "code",
   "execution_count": 174,
   "id": "8f6a5b6c",
   "metadata": {},
   "outputs": [
    {
     "data": {
      "text/plain": [
       "DataFrame[_c1: string, count: bigint]"
      ]
     },
     "execution_count": 174,
     "metadata": {},
     "output_type": "execute_result"
    }
   ],
   "source": [
    "event_table.groupBy(\"_c1\").count()"
   ]
  },
  {
   "cell_type": "code",
   "execution_count": 176,
   "id": "d953f909",
   "metadata": {},
   "outputs": [
    {
     "data": {
      "text/plain": [
       "[(1, 2), (2, 2)]"
      ]
     },
     "execution_count": 176,
     "metadata": {},
     "output_type": "execute_result"
    }
   ],
   "source": [
    "# lambda row: row.get(\"McID\")\n",
    "from operator import add\n",
    "event_table_rdd\\\n",
    "    .map(lambda row: (int(row[\"_c1\"]), int(row[\"_c2\"])))\\\n",
    "    .reduceByKey(lambda x, y: y)\\\n",
    "    .collect()"
   ]
  },
  {
   "cell_type": "code",
   "execution_count": 59,
   "id": "87245282",
   "metadata": {},
   "outputs": [
    {
     "name": "stdout",
     "output_type": "stream",
     "text": [
      "[Row(_c0='12:15', _c1='1', _c2='1'), Row(_c0='12:20', _c1='1', _c2='2'), Row(_c0='12:30', _c1='2', _c2='1'), Row(_c0='12:40', _c1='2', _c2='2')]\n"
     ]
    }
   ],
   "source": [
    "print(event_table_rdd.collect())"
   ]
  },
  {
   "cell_type": "code",
   "execution_count": 60,
   "id": "bf85a944",
   "metadata": {},
   "outputs": [
    {
     "data": {
      "text/plain": [
       "('12:40', '2', '2', '12:40', '2', '2')"
      ]
     },
     "execution_count": 60,
     "metadata": {},
     "output_type": "execute_result"
    }
   ],
   "source": [
    "event_table_rdd.reduce(lambda a, b: 2 * b)"
   ]
  },
  {
   "cell_type": "code",
   "execution_count": 189,
   "id": "fa41271e",
   "metadata": {},
   "outputs": [],
   "source": [
    "from pyspark.sql.functions import avg, sum"
   ]
  },
  {
   "cell_type": "code",
   "execution_count": 199,
   "id": "4ede7f9a",
   "metadata": {},
   "outputs": [
    {
     "name": "stdout",
     "output_type": "stream",
     "text": [
      "+-----+---+---+---+------+---+\n",
      "|  _c0|_c1|_c2|_c0|   _c1|_c2|\n",
      "+-----+---+---+---+------+---+\n",
      "|12:15|  1|  1|  1|Comedy|100|\n",
      "|12:20|  1|  2|  2|Action|200|\n",
      "|12:30|  2|  1|  1|Comedy|100|\n",
      "|12:40|  2|  2|  2|Action|200|\n",
      "|12:50|  1|  3|  3|Comedy|300|\n",
      "+-----+---+---+---+------+---+\n",
      "\n"
     ]
    }
   ],
   "source": [
    "# sales_table.join(products_table, sales_table[\"product_id\"] == products_table[\"product_id\"], \"inner\")\\\n",
    "#    .agg(avg(products_table[\"price\"] * sales_table[\"num_pieces_sold\"])).show()\n",
    "event_table.join(video_table, event_table[\"_c2\"] == video_table[\"_c0\"], \"inner\").show()\n",
    "    #.agg(avg(video_table[\"_c2\"])).show()"
   ]
  },
  {
   "cell_type": "code",
   "execution_count": 200,
   "id": "eb9bace5",
   "metadata": {},
   "outputs": [],
   "source": [
    "user_table_rdd = user_table.rdd"
   ]
  },
  {
   "cell_type": "code",
   "execution_count": 262,
   "id": "e3b4d207",
   "metadata": {},
   "outputs": [
    {
     "data": {
      "text/plain": [
       "[None, '2']"
      ]
     },
     "execution_count": 262,
     "metadata": {},
     "output_type": "execute_result"
    }
   ],
   "source": [
    "def reduceFunction(elem):  \n",
    "    if elem[1] == \" ChurnOut\":\n",
    "        return elem[0]\n",
    "\n",
    "user_table_rdd\\\n",
    "    .map(lambda x: (x[\"_c0\"], x[\"_c3\"]))\\\n",
    "    .map(lambda x: reduceFunction(x)).collect()"
   ]
  }
 ],
 "metadata": {
  "kernelspec": {
   "display_name": "Python 3 (ipykernel)",
   "language": "python",
   "name": "python3"
  },
  "language_info": {
   "codemirror_mode": {
    "name": "ipython",
    "version": 3
   },
   "file_extension": ".py",
   "mimetype": "text/x-python",
   "name": "python",
   "nbconvert_exporter": "python",
   "pygments_lexer": "ipython3",
   "version": "3.9.7"
  }
 },
 "nbformat": 4,
 "nbformat_minor": 5
}
